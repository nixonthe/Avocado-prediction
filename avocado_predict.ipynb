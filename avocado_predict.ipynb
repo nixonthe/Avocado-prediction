{
  "nbformat": 4,
  "nbformat_minor": 0,
  "metadata": {
    "colab": {
      "name": "avocado_predict.ipynb",
      "provenance": [],
      "collapsed_sections": []
    },
    "kernelspec": {
      "name": "python3",
      "display_name": "Python 3"
    }
  },
  "cells": [
    {
      "cell_type": "markdown",
      "metadata": {
        "id": "UGkuCcojL2f7",
        "colab_type": "text"
      },
      "source": [
        "[Dataset](https://www.kaggle.com/neuromusic/avocado-prices)"
      ]
    },
    {
      "cell_type": "markdown",
      "metadata": {
        "id": "4q6ndYHf0z-U",
        "colab_type": "text"
      },
      "source": [
        "Предскажем количество купленных авокадо на основании его цены."
      ]
    },
    {
      "cell_type": "code",
      "metadata": {
        "id": "uJMKWau7KGWc",
        "colab_type": "code",
        "colab": {
          "base_uri": "https://localhost:8080/",
          "height": 204
        },
        "outputId": "078bf64c-591d-4b4c-8ca5-e0f31c4f0cf7"
      },
      "source": [
        "import pandas as pd\n",
        "import numpy as np\n",
        "import matplotlib.pyplot as plt\n",
        "\n",
        "avo = pd.read_csv('avocado.csv')\n",
        "\n",
        "avo.head()"
      ],
      "execution_count": 165,
      "outputs": [
        {
          "output_type": "execute_result",
          "data": {
            "text/html": [
              "<div>\n",
              "<style scoped>\n",
              "    .dataframe tbody tr th:only-of-type {\n",
              "        vertical-align: middle;\n",
              "    }\n",
              "\n",
              "    .dataframe tbody tr th {\n",
              "        vertical-align: top;\n",
              "    }\n",
              "\n",
              "    .dataframe thead th {\n",
              "        text-align: right;\n",
              "    }\n",
              "</style>\n",
              "<table border=\"1\" class=\"dataframe\">\n",
              "  <thead>\n",
              "    <tr style=\"text-align: right;\">\n",
              "      <th></th>\n",
              "      <th>Unnamed: 0</th>\n",
              "      <th>Date</th>\n",
              "      <th>AveragePrice</th>\n",
              "      <th>Total Volume</th>\n",
              "      <th>4046</th>\n",
              "      <th>4225</th>\n",
              "      <th>4770</th>\n",
              "      <th>Total Bags</th>\n",
              "      <th>Small Bags</th>\n",
              "      <th>Large Bags</th>\n",
              "      <th>XLarge Bags</th>\n",
              "      <th>type</th>\n",
              "      <th>year</th>\n",
              "      <th>region</th>\n",
              "    </tr>\n",
              "  </thead>\n",
              "  <tbody>\n",
              "    <tr>\n",
              "      <th>0</th>\n",
              "      <td>0</td>\n",
              "      <td>2015-12-27</td>\n",
              "      <td>1.33</td>\n",
              "      <td>64236.62</td>\n",
              "      <td>1036.74</td>\n",
              "      <td>54454.85</td>\n",
              "      <td>48.16</td>\n",
              "      <td>8696.87</td>\n",
              "      <td>8603.62</td>\n",
              "      <td>93.25</td>\n",
              "      <td>0.0</td>\n",
              "      <td>conventional</td>\n",
              "      <td>2015</td>\n",
              "      <td>Albany</td>\n",
              "    </tr>\n",
              "    <tr>\n",
              "      <th>1</th>\n",
              "      <td>1</td>\n",
              "      <td>2015-12-20</td>\n",
              "      <td>1.35</td>\n",
              "      <td>54876.98</td>\n",
              "      <td>674.28</td>\n",
              "      <td>44638.81</td>\n",
              "      <td>58.33</td>\n",
              "      <td>9505.56</td>\n",
              "      <td>9408.07</td>\n",
              "      <td>97.49</td>\n",
              "      <td>0.0</td>\n",
              "      <td>conventional</td>\n",
              "      <td>2015</td>\n",
              "      <td>Albany</td>\n",
              "    </tr>\n",
              "    <tr>\n",
              "      <th>2</th>\n",
              "      <td>2</td>\n",
              "      <td>2015-12-13</td>\n",
              "      <td>0.93</td>\n",
              "      <td>118220.22</td>\n",
              "      <td>794.70</td>\n",
              "      <td>109149.67</td>\n",
              "      <td>130.50</td>\n",
              "      <td>8145.35</td>\n",
              "      <td>8042.21</td>\n",
              "      <td>103.14</td>\n",
              "      <td>0.0</td>\n",
              "      <td>conventional</td>\n",
              "      <td>2015</td>\n",
              "      <td>Albany</td>\n",
              "    </tr>\n",
              "    <tr>\n",
              "      <th>3</th>\n",
              "      <td>3</td>\n",
              "      <td>2015-12-06</td>\n",
              "      <td>1.08</td>\n",
              "      <td>78992.15</td>\n",
              "      <td>1132.00</td>\n",
              "      <td>71976.41</td>\n",
              "      <td>72.58</td>\n",
              "      <td>5811.16</td>\n",
              "      <td>5677.40</td>\n",
              "      <td>133.76</td>\n",
              "      <td>0.0</td>\n",
              "      <td>conventional</td>\n",
              "      <td>2015</td>\n",
              "      <td>Albany</td>\n",
              "    </tr>\n",
              "    <tr>\n",
              "      <th>4</th>\n",
              "      <td>4</td>\n",
              "      <td>2015-11-29</td>\n",
              "      <td>1.28</td>\n",
              "      <td>51039.60</td>\n",
              "      <td>941.48</td>\n",
              "      <td>43838.39</td>\n",
              "      <td>75.78</td>\n",
              "      <td>6183.95</td>\n",
              "      <td>5986.26</td>\n",
              "      <td>197.69</td>\n",
              "      <td>0.0</td>\n",
              "      <td>conventional</td>\n",
              "      <td>2015</td>\n",
              "      <td>Albany</td>\n",
              "    </tr>\n",
              "  </tbody>\n",
              "</table>\n",
              "</div>"
            ],
            "text/plain": [
              "   Unnamed: 0        Date  AveragePrice  ...          type  year  region\n",
              "0           0  2015-12-27          1.33  ...  conventional  2015  Albany\n",
              "1           1  2015-12-20          1.35  ...  conventional  2015  Albany\n",
              "2           2  2015-12-13          0.93  ...  conventional  2015  Albany\n",
              "3           3  2015-12-06          1.08  ...  conventional  2015  Albany\n",
              "4           4  2015-11-29          1.28  ...  conventional  2015  Albany\n",
              "\n",
              "[5 rows x 14 columns]"
            ]
          },
          "metadata": {
            "tags": []
          },
          "execution_count": 165
        }
      ]
    },
    {
      "cell_type": "markdown",
      "metadata": {
        "id": "i_XXxqbf0-MA",
        "colab_type": "text"
      },
      "source": [
        "Проверим датасет на тип данных и пропущенные значения."
      ]
    },
    {
      "cell_type": "code",
      "metadata": {
        "id": "agsslm0jMSPc",
        "colab_type": "code",
        "colab": {
          "base_uri": "https://localhost:8080/",
          "height": 374
        },
        "outputId": "7d9f8654-93f2-4bfe-f451-8693e6b6810a"
      },
      "source": [
        "avo.info()"
      ],
      "execution_count": 166,
      "outputs": [
        {
          "output_type": "stream",
          "text": [
            "<class 'pandas.core.frame.DataFrame'>\n",
            "RangeIndex: 18249 entries, 0 to 18248\n",
            "Data columns (total 14 columns):\n",
            " #   Column        Non-Null Count  Dtype  \n",
            "---  ------        --------------  -----  \n",
            " 0   Unnamed: 0    18249 non-null  int64  \n",
            " 1   Date          18249 non-null  object \n",
            " 2   AveragePrice  18249 non-null  float64\n",
            " 3   Total Volume  18249 non-null  float64\n",
            " 4   4046          18249 non-null  float64\n",
            " 5   4225          18249 non-null  float64\n",
            " 6   4770          18249 non-null  float64\n",
            " 7   Total Bags    18249 non-null  float64\n",
            " 8   Small Bags    18249 non-null  float64\n",
            " 9   Large Bags    18249 non-null  float64\n",
            " 10  XLarge Bags   18249 non-null  float64\n",
            " 11  type          18249 non-null  object \n",
            " 12  year          18249 non-null  int64  \n",
            " 13  region        18249 non-null  object \n",
            "dtypes: float64(9), int64(2), object(3)\n",
            "memory usage: 1.9+ MB\n"
          ],
          "name": "stdout"
        }
      ]
    },
    {
      "cell_type": "markdown",
      "metadata": {
        "id": "AdwV2oRN1EeJ",
        "colab_type": "text"
      },
      "source": [
        "Создадим новый датасет, убрав ненужные колонки."
      ]
    },
    {
      "cell_type": "code",
      "metadata": {
        "id": "_xAHwxL0MvWH",
        "colab_type": "code",
        "colab": {
          "base_uri": "https://localhost:8080/",
          "height": 204
        },
        "outputId": "bb48893e-342e-45be-858c-78b558cb6f10"
      },
      "source": [
        "df = avo[['AveragePrice', 'Total Volume', 'year', 'region']]\n",
        "df.head()"
      ],
      "execution_count": 167,
      "outputs": [
        {
          "output_type": "execute_result",
          "data": {
            "text/html": [
              "<div>\n",
              "<style scoped>\n",
              "    .dataframe tbody tr th:only-of-type {\n",
              "        vertical-align: middle;\n",
              "    }\n",
              "\n",
              "    .dataframe tbody tr th {\n",
              "        vertical-align: top;\n",
              "    }\n",
              "\n",
              "    .dataframe thead th {\n",
              "        text-align: right;\n",
              "    }\n",
              "</style>\n",
              "<table border=\"1\" class=\"dataframe\">\n",
              "  <thead>\n",
              "    <tr style=\"text-align: right;\">\n",
              "      <th></th>\n",
              "      <th>AveragePrice</th>\n",
              "      <th>Total Volume</th>\n",
              "      <th>year</th>\n",
              "      <th>region</th>\n",
              "    </tr>\n",
              "  </thead>\n",
              "  <tbody>\n",
              "    <tr>\n",
              "      <th>0</th>\n",
              "      <td>1.33</td>\n",
              "      <td>64236.62</td>\n",
              "      <td>2015</td>\n",
              "      <td>Albany</td>\n",
              "    </tr>\n",
              "    <tr>\n",
              "      <th>1</th>\n",
              "      <td>1.35</td>\n",
              "      <td>54876.98</td>\n",
              "      <td>2015</td>\n",
              "      <td>Albany</td>\n",
              "    </tr>\n",
              "    <tr>\n",
              "      <th>2</th>\n",
              "      <td>0.93</td>\n",
              "      <td>118220.22</td>\n",
              "      <td>2015</td>\n",
              "      <td>Albany</td>\n",
              "    </tr>\n",
              "    <tr>\n",
              "      <th>3</th>\n",
              "      <td>1.08</td>\n",
              "      <td>78992.15</td>\n",
              "      <td>2015</td>\n",
              "      <td>Albany</td>\n",
              "    </tr>\n",
              "    <tr>\n",
              "      <th>4</th>\n",
              "      <td>1.28</td>\n",
              "      <td>51039.60</td>\n",
              "      <td>2015</td>\n",
              "      <td>Albany</td>\n",
              "    </tr>\n",
              "  </tbody>\n",
              "</table>\n",
              "</div>"
            ],
            "text/plain": [
              "   AveragePrice  Total Volume  year  region\n",
              "0          1.33      64236.62  2015  Albany\n",
              "1          1.35      54876.98  2015  Albany\n",
              "2          0.93     118220.22  2015  Albany\n",
              "3          1.08      78992.15  2015  Albany\n",
              "4          1.28      51039.60  2015  Albany"
            ]
          },
          "metadata": {
            "tags": []
          },
          "execution_count": 167
        }
      ]
    },
    {
      "cell_type": "markdown",
      "metadata": {
        "id": "IrB9vKgm1OJB",
        "colab_type": "text"
      },
      "source": [
        "Какие регионы США представлены в данных?"
      ]
    },
    {
      "cell_type": "code",
      "metadata": {
        "id": "MafK37bnNW38",
        "colab_type": "code",
        "colab": {
          "base_uri": "https://localhost:8080/",
          "height": 238
        },
        "outputId": "e271a164-acec-4d0b-bc11-f0c6932be605"
      },
      "source": [
        "df[\"region\"].unique()"
      ],
      "execution_count": 168,
      "outputs": [
        {
          "output_type": "execute_result",
          "data": {
            "text/plain": [
              "array(['Albany', 'Atlanta', 'BaltimoreWashington', 'Boise', 'Boston',\n",
              "       'BuffaloRochester', 'California', 'Charlotte', 'Chicago',\n",
              "       'CincinnatiDayton', 'Columbus', 'DallasFtWorth', 'Denver',\n",
              "       'Detroit', 'GrandRapids', 'GreatLakes', 'HarrisburgScranton',\n",
              "       'HartfordSpringfield', 'Houston', 'Indianapolis', 'Jacksonville',\n",
              "       'LasVegas', 'LosAngeles', 'Louisville', 'MiamiFtLauderdale',\n",
              "       'Midsouth', 'Nashville', 'NewOrleansMobile', 'NewYork',\n",
              "       'Northeast', 'NorthernNewEngland', 'Orlando', 'Philadelphia',\n",
              "       'PhoenixTucson', 'Pittsburgh', 'Plains', 'Portland',\n",
              "       'RaleighGreensboro', 'RichmondNorfolk', 'Roanoke', 'Sacramento',\n",
              "       'SanDiego', 'SanFrancisco', 'Seattle', 'SouthCarolina',\n",
              "       'SouthCentral', 'Southeast', 'Spokane', 'StLouis', 'Syracuse',\n",
              "       'Tampa', 'TotalUS', 'West', 'WestTexNewMexico'], dtype=object)"
            ]
          },
          "metadata": {
            "tags": []
          },
          "execution_count": 168
        }
      ]
    },
    {
      "cell_type": "markdown",
      "metadata": {
        "id": "TKyi40Ds1Wsi",
        "colab_type": "text"
      },
      "source": [
        "Медианная цена на авокадо за указанный период."
      ]
    },
    {
      "cell_type": "code",
      "metadata": {
        "id": "rzn4rt_HN26w",
        "colab_type": "code",
        "colab": {
          "base_uri": "https://localhost:8080/",
          "height": 204
        },
        "outputId": "ccffc878-a52d-4eac-9a7a-f4e619fbba13"
      },
      "source": [
        "df.groupby('year').agg({'AveragePrice': 'median'})"
      ],
      "execution_count": 169,
      "outputs": [
        {
          "output_type": "execute_result",
          "data": {
            "text/html": [
              "<div>\n",
              "<style scoped>\n",
              "    .dataframe tbody tr th:only-of-type {\n",
              "        vertical-align: middle;\n",
              "    }\n",
              "\n",
              "    .dataframe tbody tr th {\n",
              "        vertical-align: top;\n",
              "    }\n",
              "\n",
              "    .dataframe thead th {\n",
              "        text-align: right;\n",
              "    }\n",
              "</style>\n",
              "<table border=\"1\" class=\"dataframe\">\n",
              "  <thead>\n",
              "    <tr style=\"text-align: right;\">\n",
              "      <th></th>\n",
              "      <th>AveragePrice</th>\n",
              "    </tr>\n",
              "    <tr>\n",
              "      <th>year</th>\n",
              "      <th></th>\n",
              "    </tr>\n",
              "  </thead>\n",
              "  <tbody>\n",
              "    <tr>\n",
              "      <th>2015</th>\n",
              "      <td>1.300</td>\n",
              "    </tr>\n",
              "    <tr>\n",
              "      <th>2016</th>\n",
              "      <td>1.300</td>\n",
              "    </tr>\n",
              "    <tr>\n",
              "      <th>2017</th>\n",
              "      <td>1.490</td>\n",
              "    </tr>\n",
              "    <tr>\n",
              "      <th>2018</th>\n",
              "      <td>1.345</td>\n",
              "    </tr>\n",
              "  </tbody>\n",
              "</table>\n",
              "</div>"
            ],
            "text/plain": [
              "      AveragePrice\n",
              "year              \n",
              "2015         1.300\n",
              "2016         1.300\n",
              "2017         1.490\n",
              "2018         1.345"
            ]
          },
          "metadata": {
            "tags": []
          },
          "execution_count": 169
        }
      ]
    },
    {
      "cell_type": "markdown",
      "metadata": {
        "id": "LBOmL3OV1dJ5",
        "colab_type": "text"
      },
      "source": [
        "Средняя цена на авокадо за указанный период."
      ]
    },
    {
      "cell_type": "code",
      "metadata": {
        "id": "obz7jxoWOfh6",
        "colab_type": "code",
        "colab": {
          "base_uri": "https://localhost:8080/",
          "height": 204
        },
        "outputId": "78e81349-330d-46b4-a272-3381fd768d21"
      },
      "source": [
        "df.groupby('year').agg({'AveragePrice': 'mean'})"
      ],
      "execution_count": 170,
      "outputs": [
        {
          "output_type": "execute_result",
          "data": {
            "text/html": [
              "<div>\n",
              "<style scoped>\n",
              "    .dataframe tbody tr th:only-of-type {\n",
              "        vertical-align: middle;\n",
              "    }\n",
              "\n",
              "    .dataframe tbody tr th {\n",
              "        vertical-align: top;\n",
              "    }\n",
              "\n",
              "    .dataframe thead th {\n",
              "        text-align: right;\n",
              "    }\n",
              "</style>\n",
              "<table border=\"1\" class=\"dataframe\">\n",
              "  <thead>\n",
              "    <tr style=\"text-align: right;\">\n",
              "      <th></th>\n",
              "      <th>AveragePrice</th>\n",
              "    </tr>\n",
              "    <tr>\n",
              "      <th>year</th>\n",
              "      <th></th>\n",
              "    </tr>\n",
              "  </thead>\n",
              "  <tbody>\n",
              "    <tr>\n",
              "      <th>2015</th>\n",
              "      <td>1.375590</td>\n",
              "    </tr>\n",
              "    <tr>\n",
              "      <th>2016</th>\n",
              "      <td>1.338640</td>\n",
              "    </tr>\n",
              "    <tr>\n",
              "      <th>2017</th>\n",
              "      <td>1.515128</td>\n",
              "    </tr>\n",
              "    <tr>\n",
              "      <th>2018</th>\n",
              "      <td>1.347531</td>\n",
              "    </tr>\n",
              "  </tbody>\n",
              "</table>\n",
              "</div>"
            ],
            "text/plain": [
              "      AveragePrice\n",
              "year              \n",
              "2015      1.375590\n",
              "2016      1.338640\n",
              "2017      1.515128\n",
              "2018      1.347531"
            ]
          },
          "metadata": {
            "tags": []
          },
          "execution_count": 170
        }
      ]
    },
    {
      "cell_type": "markdown",
      "metadata": {
        "id": "eXd22n9Y1f4j",
        "colab_type": "text"
      },
      "source": [
        "Найдём регион, где самые дорогие авокадо за несколько лет."
      ]
    },
    {
      "cell_type": "code",
      "metadata": {
        "id": "3dQLl6bNOjnw",
        "colab_type": "code",
        "colab": {
          "base_uri": "https://localhost:8080/",
          "height": 1000
        },
        "outputId": "6f8d455c-b2e4-4ca8-cd93-98586324b6af"
      },
      "source": [
        "df.groupby('region').agg({'AveragePrice': 'mean'}).sort_values(by='AveragePrice', ascending=False)"
      ],
      "execution_count": 171,
      "outputs": [
        {
          "output_type": "execute_result",
          "data": {
            "text/html": [
              "<div>\n",
              "<style scoped>\n",
              "    .dataframe tbody tr th:only-of-type {\n",
              "        vertical-align: middle;\n",
              "    }\n",
              "\n",
              "    .dataframe tbody tr th {\n",
              "        vertical-align: top;\n",
              "    }\n",
              "\n",
              "    .dataframe thead th {\n",
              "        text-align: right;\n",
              "    }\n",
              "</style>\n",
              "<table border=\"1\" class=\"dataframe\">\n",
              "  <thead>\n",
              "    <tr style=\"text-align: right;\">\n",
              "      <th></th>\n",
              "      <th>AveragePrice</th>\n",
              "    </tr>\n",
              "    <tr>\n",
              "      <th>region</th>\n",
              "      <th></th>\n",
              "    </tr>\n",
              "  </thead>\n",
              "  <tbody>\n",
              "    <tr>\n",
              "      <th>HartfordSpringfield</th>\n",
              "      <td>1.818639</td>\n",
              "    </tr>\n",
              "    <tr>\n",
              "      <th>SanFrancisco</th>\n",
              "      <td>1.804201</td>\n",
              "    </tr>\n",
              "    <tr>\n",
              "      <th>NewYork</th>\n",
              "      <td>1.727574</td>\n",
              "    </tr>\n",
              "    <tr>\n",
              "      <th>Philadelphia</th>\n",
              "      <td>1.632130</td>\n",
              "    </tr>\n",
              "    <tr>\n",
              "      <th>Sacramento</th>\n",
              "      <td>1.621568</td>\n",
              "    </tr>\n",
              "    <tr>\n",
              "      <th>Charlotte</th>\n",
              "      <td>1.606036</td>\n",
              "    </tr>\n",
              "    <tr>\n",
              "      <th>Northeast</th>\n",
              "      <td>1.601923</td>\n",
              "    </tr>\n",
              "    <tr>\n",
              "      <th>Albany</th>\n",
              "      <td>1.561036</td>\n",
              "    </tr>\n",
              "    <tr>\n",
              "      <th>Chicago</th>\n",
              "      <td>1.556775</td>\n",
              "    </tr>\n",
              "    <tr>\n",
              "      <th>RaleighGreensboro</th>\n",
              "      <td>1.555118</td>\n",
              "    </tr>\n",
              "    <tr>\n",
              "      <th>BaltimoreWashington</th>\n",
              "      <td>1.534231</td>\n",
              "    </tr>\n",
              "    <tr>\n",
              "      <th>Boston</th>\n",
              "      <td>1.530888</td>\n",
              "    </tr>\n",
              "    <tr>\n",
              "      <th>Syracuse</th>\n",
              "      <td>1.520325</td>\n",
              "    </tr>\n",
              "    <tr>\n",
              "      <th>BuffaloRochester</th>\n",
              "      <td>1.516834</td>\n",
              "    </tr>\n",
              "    <tr>\n",
              "      <th>HarrisburgScranton</th>\n",
              "      <td>1.513284</td>\n",
              "    </tr>\n",
              "    <tr>\n",
              "      <th>Jacksonville</th>\n",
              "      <td>1.510947</td>\n",
              "    </tr>\n",
              "    <tr>\n",
              "      <th>Orlando</th>\n",
              "      <td>1.506213</td>\n",
              "    </tr>\n",
              "    <tr>\n",
              "      <th>GrandRapids</th>\n",
              "      <td>1.505000</td>\n",
              "    </tr>\n",
              "    <tr>\n",
              "      <th>NorthernNewEngland</th>\n",
              "      <td>1.477396</td>\n",
              "    </tr>\n",
              "    <tr>\n",
              "      <th>Spokane</th>\n",
              "      <td>1.445592</td>\n",
              "    </tr>\n",
              "    <tr>\n",
              "      <th>Seattle</th>\n",
              "      <td>1.442574</td>\n",
              "    </tr>\n",
              "    <tr>\n",
              "      <th>Plains</th>\n",
              "      <td>1.436509</td>\n",
              "    </tr>\n",
              "    <tr>\n",
              "      <th>StLouis</th>\n",
              "      <td>1.430621</td>\n",
              "    </tr>\n",
              "    <tr>\n",
              "      <th>MiamiFtLauderdale</th>\n",
              "      <td>1.428491</td>\n",
              "    </tr>\n",
              "    <tr>\n",
              "      <th>Tampa</th>\n",
              "      <td>1.408846</td>\n",
              "    </tr>\n",
              "    <tr>\n",
              "      <th>Midsouth</th>\n",
              "      <td>1.404763</td>\n",
              "    </tr>\n",
              "    <tr>\n",
              "      <th>SouthCarolina</th>\n",
              "      <td>1.403284</td>\n",
              "    </tr>\n",
              "    <tr>\n",
              "      <th>SanDiego</th>\n",
              "      <td>1.398166</td>\n",
              "    </tr>\n",
              "    <tr>\n",
              "      <th>Southeast</th>\n",
              "      <td>1.398018</td>\n",
              "    </tr>\n",
              "    <tr>\n",
              "      <th>California</th>\n",
              "      <td>1.395325</td>\n",
              "    </tr>\n",
              "    <tr>\n",
              "      <th>LasVegas</th>\n",
              "      <td>1.380917</td>\n",
              "    </tr>\n",
              "    <tr>\n",
              "      <th>Pittsburgh</th>\n",
              "      <td>1.364320</td>\n",
              "    </tr>\n",
              "    <tr>\n",
              "      <th>Boise</th>\n",
              "      <td>1.348136</td>\n",
              "    </tr>\n",
              "    <tr>\n",
              "      <th>GreatLakes</th>\n",
              "      <td>1.338550</td>\n",
              "    </tr>\n",
              "    <tr>\n",
              "      <th>Atlanta</th>\n",
              "      <td>1.337959</td>\n",
              "    </tr>\n",
              "    <tr>\n",
              "      <th>TotalUS</th>\n",
              "      <td>1.319024</td>\n",
              "    </tr>\n",
              "    <tr>\n",
              "      <th>Portland</th>\n",
              "      <td>1.317722</td>\n",
              "    </tr>\n",
              "    <tr>\n",
              "      <th>Indianapolis</th>\n",
              "      <td>1.313994</td>\n",
              "    </tr>\n",
              "    <tr>\n",
              "      <th>NewOrleansMobile</th>\n",
              "      <td>1.304793</td>\n",
              "    </tr>\n",
              "    <tr>\n",
              "      <th>RichmondNorfolk</th>\n",
              "      <td>1.291331</td>\n",
              "    </tr>\n",
              "    <tr>\n",
              "      <th>Louisville</th>\n",
              "      <td>1.286686</td>\n",
              "    </tr>\n",
              "    <tr>\n",
              "      <th>Detroit</th>\n",
              "      <td>1.276095</td>\n",
              "    </tr>\n",
              "    <tr>\n",
              "      <th>West</th>\n",
              "      <td>1.272219</td>\n",
              "    </tr>\n",
              "    <tr>\n",
              "      <th>WestTexNewMexico</th>\n",
              "      <td>1.261701</td>\n",
              "    </tr>\n",
              "    <tr>\n",
              "      <th>Columbus</th>\n",
              "      <td>1.252781</td>\n",
              "    </tr>\n",
              "    <tr>\n",
              "      <th>Roanoke</th>\n",
              "      <td>1.247929</td>\n",
              "    </tr>\n",
              "    <tr>\n",
              "      <th>PhoenixTucson</th>\n",
              "      <td>1.224438</td>\n",
              "    </tr>\n",
              "    <tr>\n",
              "      <th>Denver</th>\n",
              "      <td>1.218580</td>\n",
              "    </tr>\n",
              "    <tr>\n",
              "      <th>LosAngeles</th>\n",
              "      <td>1.216006</td>\n",
              "    </tr>\n",
              "    <tr>\n",
              "      <th>Nashville</th>\n",
              "      <td>1.212101</td>\n",
              "    </tr>\n",
              "    <tr>\n",
              "      <th>CincinnatiDayton</th>\n",
              "      <td>1.209201</td>\n",
              "    </tr>\n",
              "    <tr>\n",
              "      <th>SouthCentral</th>\n",
              "      <td>1.101243</td>\n",
              "    </tr>\n",
              "    <tr>\n",
              "      <th>DallasFtWorth</th>\n",
              "      <td>1.085592</td>\n",
              "    </tr>\n",
              "    <tr>\n",
              "      <th>Houston</th>\n",
              "      <td>1.047929</td>\n",
              "    </tr>\n",
              "  </tbody>\n",
              "</table>\n",
              "</div>"
            ],
            "text/plain": [
              "                     AveragePrice\n",
              "region                           \n",
              "HartfordSpringfield      1.818639\n",
              "SanFrancisco             1.804201\n",
              "NewYork                  1.727574\n",
              "Philadelphia             1.632130\n",
              "Sacramento               1.621568\n",
              "Charlotte                1.606036\n",
              "Northeast                1.601923\n",
              "Albany                   1.561036\n",
              "Chicago                  1.556775\n",
              "RaleighGreensboro        1.555118\n",
              "BaltimoreWashington      1.534231\n",
              "Boston                   1.530888\n",
              "Syracuse                 1.520325\n",
              "BuffaloRochester         1.516834\n",
              "HarrisburgScranton       1.513284\n",
              "Jacksonville             1.510947\n",
              "Orlando                  1.506213\n",
              "GrandRapids              1.505000\n",
              "NorthernNewEngland       1.477396\n",
              "Spokane                  1.445592\n",
              "Seattle                  1.442574\n",
              "Plains                   1.436509\n",
              "StLouis                  1.430621\n",
              "MiamiFtLauderdale        1.428491\n",
              "Tampa                    1.408846\n",
              "Midsouth                 1.404763\n",
              "SouthCarolina            1.403284\n",
              "SanDiego                 1.398166\n",
              "Southeast                1.398018\n",
              "California               1.395325\n",
              "LasVegas                 1.380917\n",
              "Pittsburgh               1.364320\n",
              "Boise                    1.348136\n",
              "GreatLakes               1.338550\n",
              "Atlanta                  1.337959\n",
              "TotalUS                  1.319024\n",
              "Portland                 1.317722\n",
              "Indianapolis             1.313994\n",
              "NewOrleansMobile         1.304793\n",
              "RichmondNorfolk          1.291331\n",
              "Louisville               1.286686\n",
              "Detroit                  1.276095\n",
              "West                     1.272219\n",
              "WestTexNewMexico         1.261701\n",
              "Columbus                 1.252781\n",
              "Roanoke                  1.247929\n",
              "PhoenixTucson            1.224438\n",
              "Denver                   1.218580\n",
              "LosAngeles               1.216006\n",
              "Nashville                1.212101\n",
              "CincinnatiDayton         1.209201\n",
              "SouthCentral             1.101243\n",
              "DallasFtWorth            1.085592\n",
              "Houston                  1.047929"
            ]
          },
          "metadata": {
            "tags": []
          },
          "execution_count": 171
        }
      ]
    },
    {
      "cell_type": "markdown",
      "metadata": {
        "id": "HJ_SFmpE1q35",
        "colab_type": "text"
      },
      "source": [
        "Проверим цену за несколько лет."
      ]
    },
    {
      "cell_type": "code",
      "metadata": {
        "id": "zg8uE2rHuTPw",
        "colab_type": "code",
        "colab": {
          "base_uri": "https://localhost:8080/",
          "height": 282
        },
        "outputId": "8230db65-b5eb-4436-d69c-81bb8eb993dd"
      },
      "source": [
        "df.boxplot(column='AveragePrice')"
      ],
      "execution_count": 172,
      "outputs": [
        {
          "output_type": "execute_result",
          "data": {
            "text/plain": [
              "<matplotlib.axes._subplots.AxesSubplot at 0x7f97a79eff98>"
            ]
          },
          "metadata": {
            "tags": []
          },
          "execution_count": 172
        },
        {
          "output_type": "display_data",
          "data": {
            "image/png": "[encoded data removed]",
            "text/plain": [
              "<Figure size 432x288 with 1 Axes>"
            ]
          },
          "metadata": {
            "tags": [],
            "needs_background": "light"
          }
        }
      ]
    },
    {
      "cell_type": "markdown",
      "metadata": {
        "id": "lTSd1hSo10m8",
        "colab_type": "text"
      },
      "source": [
        "В целом цена не превышает 1.6 доллара. Но есть довольно много выбросов."
      ]
    },
    {
      "cell_type": "code",
      "metadata": {
        "id": "ChOyCYF2ugfU",
        "colab_type": "code",
        "colab": {
          "base_uri": "https://localhost:8080/",
          "height": 293
        },
        "outputId": "609067cd-c8e8-4d47-8ee9-449695b65f5c"
      },
      "source": [
        "df.boxplot(column='Total Volume')"
      ],
      "execution_count": 173,
      "outputs": [
        {
          "output_type": "execute_result",
          "data": {
            "text/plain": [
              "<matplotlib.axes._subplots.AxesSubplot at 0x7f97a795e048>"
            ]
          },
          "metadata": {
            "tags": []
          },
          "execution_count": 173
        },
        {
          "output_type": "display_data",
          "data": {
            "image/png": "[encoded data removed]",
            "text/plain": [
              "<Figure size 432x288 with 1 Axes>"
            ]
          },
          "metadata": {
            "tags": [],
            "needs_background": "light"
          }
        }
      ]
    },
    {
      "cell_type": "markdown",
      "metadata": {
        "id": "HDoaIFpa2Cq5",
        "colab_type": "text"
      },
      "source": [
        "В продажах авокадо ещё больше выбросов."
      ]
    },
    {
      "cell_type": "code",
      "metadata": {
        "id": "KwRcnGuHQDEM",
        "colab_type": "code",
        "colab": {
          "base_uri": "https://localhost:8080/",
          "height": 276
        },
        "outputId": "66289764-7f81-4808-ddca-9889fc23db34"
      },
      "source": [
        "plt.bar(df.AveragePrice, df['Total Volume'])\n",
        "plt.show()"
      ],
      "execution_count": 174,
      "outputs": [
        {
          "output_type": "display_data",
          "data": {
            "image/png": "[encoded data removed]",
            "text/plain": [
              "<Figure size 432x288 with 1 Axes>"
            ]
          },
          "metadata": {
            "tags": [],
            "needs_background": "light"
          }
        }
      ]
    },
    {
      "cell_type": "markdown",
      "metadata": {
        "id": "AwFh53Tf2g--",
        "colab_type": "text"
      },
      "source": [
        "Стабильно высокий спрос от 0.4 до 1.3. С ростом цены покупают немного меньше. Серьезное падение спроса наблюдается от 2.1 доллара за штуку."
      ]
    },
    {
      "cell_type": "markdown",
      "metadata": {
        "id": "5BIOo8RE3D4s",
        "colab_type": "text"
      },
      "source": [
        "Анализ проведён. Приступим к предсказаднию количество проданных авокадо."
      ]
    },
    {
      "cell_type": "code",
      "metadata": {
        "id": "79UaG0WNUIxK",
        "colab_type": "code",
        "colab": {}
      },
      "source": [
        "from sklearn.model_selection import train_test_split\n",
        "from sklearn.linear_model import LinearRegression\n",
        "from sklearn.metrics import mean_squared_error, mean_absolute_error, max_error\n",
        "from sklearn.metrics import mean_squared_log_error, median_absolute_error\n",
        "from sklearn.preprocessing import MinMaxScaler"
      ],
      "execution_count": 175,
      "outputs": []
    },
    {
      "cell_type": "code",
      "metadata": {
        "id": "fcwAgtsrZUo3",
        "colab_type": "code",
        "colab": {}
      },
      "source": [
        "x = df['AveragePrice'].values\n",
        "y = df['Total Volume'].values\n",
        "\n",
        "# задам свой параметр разброса, так как модель даёт отрицательные предсказанные\n",
        "# значения\n",
        "f_range = (0.05, 1)\n",
        "\n",
        "x = MinMaxScaler(f_range).fit_transform(x.reshape(-1, 1))\n",
        "y = MinMaxScaler(f_range).fit_transform(y.reshape(-1, 1))\n",
        "\n",
        "x_train, x_test, y_train, y_test = train_test_split(x, y, test_size=0.2,\n",
        "                                                    random_state=20)"
      ],
      "execution_count": 176,
      "outputs": []
    },
    {
      "cell_type": "code",
      "metadata": {
        "id": "9DdyZAHAZmho",
        "colab_type": "code",
        "colab": {
          "base_uri": "https://localhost:8080/",
          "height": 34
        },
        "outputId": "6df9f6cd-72bc-40be-8ef6-3411ff1df453"
      },
      "source": [
        "model = LinearRegression()\n",
        "model.fit(x_train, y_train)"
      ],
      "execution_count": 177,
      "outputs": [
        {
          "output_type": "execute_result",
          "data": {
            "text/plain": [
              "LinearRegression(copy_X=True, fit_intercept=True, n_jobs=None, normalize=False)"
            ]
          },
          "metadata": {
            "tags": []
          },
          "execution_count": 177
        }
      ]
    },
    {
      "cell_type": "code",
      "metadata": {
        "id": "L_44lJNAc5Mc",
        "colab_type": "code",
        "colab": {
          "base_uri": "https://localhost:8080/",
          "height": 102
        },
        "outputId": "27cef4b2-e34a-4039-bf52-891818f0ea18"
      },
      "source": [
        "model_pred = model.predict(x_test)\n",
        "\n",
        "ms = mean_squared_error(y_test, model_pred)\n",
        "r2 = r2_score(y_test, model_pred)\n",
        "ma = mean_absolute_error(y_test, model_pred)\n",
        "max_e = max_error(y_test, model_pred)\n",
        "msqe = mean_squared_log_error(y_test, model_pred)\n",
        "medae = median_absolute_error(y_test, model_pred)\n",
        "print('MSE: {}\\nMAE: {}\\nMQLE: {}'.format(ms, ma, msqe))\n",
        "print('Max_error: {}\\nMedian_AE: {}'.format(max_e, medae))"
      ],
      "execution_count": 178,
      "outputs": [
        {
          "output_type": "stream",
          "text": [
            "MSE: 0.0026645878577019316\n",
            "MAE: 0.0174093712866716\n",
            "MQLE: 0.0015632447855981181\n",
            "Max_error: 0.9236601792415428\n",
            "Median_AE: 0.011317978483955524\n"
          ],
          "name": "stdout"
        }
      ]
    },
    {
      "cell_type": "markdown",
      "metadata": {
        "id": "5L5TmPnB3j_V",
        "colab_type": "text"
      },
      "source": [
        "Отличные показатели оценок. Данная модель довольно примитивна, но может быть использована для предсказания количество купленных авокадо. Для более точного предсказания требуется больше признаков."
      ]
    }
  ]
}